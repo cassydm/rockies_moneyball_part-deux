{
 "cells": [
  {
   "cell_type": "markdown",
   "metadata": {},
   "source": [
    "### wikipedia list of articles \"wiki_list\""
   ]
  },
  {
   "cell_type": "code",
   "execution_count": null,
   "metadata": {},
   "outputs": [],
   "source": [
    "# Wikipedia topics\n",
    "# wiki_list = [\n",
    "#     'Colorado_Rockies',\n",
    "#     'List_of_Colorado_Rockies_seasons',\n",
    "#     'Major_League_Baseball_uniforms',\n",
    "#     'History_of_the_Colorado_Rockies',\n",
    "#     'List_of_Major_League_Baseball_awards',\n",
    "#     'Baseball_awards',\n",
    "#     'List of Colorado Rockies team records',\n",
    "#     'List of Colorado Rockies minor league affiliates',\n",
    "#     'List of Colorado Rockies broadcasters',\n",
    "#     '2024_Colorado_Rockies_season',\n",
    "#     '2024_Major_League_Baseball_draft',\n",
    "#     'List_of_Colorado_Rockies_owners_and_executives',\n",
    "#     \"Monfort_brothers\",\n",
    "#     'List_of_Colorado_Rockies_seasons',\n",
    "    # 'Baseball',\n",
    "    # 'Baseball_rules',\n",
    "    # 'Major_League_Baseball',\n",
    "    # 'Origins_of_baseball',\n",
    "    # '2024_Major_League_Baseball_season',\n",
    "    # 'List_of_World_Series_champions',\n",
    "    # 'Baseball_positioning',\n",
    "    # 'Baseball_positions',\n",
    "    # 'Batting_(baseball)',\n",
    "    # 'Base_running']\n",
    "    # 'The_Official_Professional_Baseball_Rules_Book',\n",
    "    # 'Inside_baseball_(strategy)',\n",
    "    # 'Pitch_(baseball)',\n",
    "    # 'Pitcher',\n",
    "    # 'Starting_pitcher',\n",
    "    # 'Win_probability',\n",
    "    # 'Batting_order_(baseball)',\n",
    "    # 'Bunt_(baseball)',\n",
    "    # 'Double_switch_(baseball)',\n",
    "    # 'Lefty-righty_switch',\n",
    "    # 'Pickoff',\n",
    "    # 'Power_hitter',\n",
    "    # 'Power_pitcher',\n",
    "    # 'Pull_hitter',\n",
    "    # 'Left-handed_specialist#Right-handed_specialist',\n",
    "    # 'Small_ball_(baseball)',\n",
    "    # 'Intentional_balk',\n",
    "    # 'Infield_shift',\n",
    "    # 'The_Hidden_Game_of_Baseball',\n",
    "    # 'Wins_Above_Replacement'\n",
    "    # ]"
   ]
  },
  {
   "cell_type": "code",
   "execution_count": null,
   "metadata": {},
   "outputs": [],
   "source": [
    "# Wikipedia topics\n",
    "# wiki_list = [\n",
    "#     'Colorado_Rockies',\n",
    "#     'List_of_Colorado_Rockies_seasons',\n",
    "#     'History_of_the_Colorado_Rockies',\n",
    "#     'List of Colorado Rockies team records',\n",
    "#     '2024_Colorado_Rockies_season',\n",
    "#     'List_of_Colorado_Rockies_owners_and_executives',\n",
    "#     'List_of_Colorado_Rockies_seasons',\n",
    "#     'Baseball',\n",
    "#     'Baseball_rules',\n",
    "#     'Major_League_Baseball',\n",
    "#     '2024_Major_League_Baseball_season']"
   ]
  },
  {
   "cell_type": "code",
   "execution_count": 2,
   "metadata": {},
   "outputs": [],
   "source": [
    "# Wikipedia topics\n",
    "wiki_list = [\n",
    "    'Colorado_Rockies',\n",
    "    'List of Colorado Rockies team records',\n",
    "    '2024_Colorado_Rockies_season',\n",
    "    'List_of_Colorado_Rockies_owners_and_executives',\n",
    "    'List_of_Colorado_Rockies_seasons']"
   ]
  },
  {
   "cell_type": "markdown",
   "metadata": {},
   "source": [
    "# Chatbot"
   ]
  },
  {
   "cell_type": "code",
   "execution_count": 3,
   "metadata": {},
   "outputs": [],
   "source": [
    "# load dependencies\n",
    "import gradio as gr\n",
    "from langchain_openai import ChatOpenAI\n",
    "from langchain_community.document_loaders import WikipediaLoader\n",
    "from langchain.chains.question_answering import load_qa_chain\n",
    "from langchain.docstore.document import Document\n",
    "import speech_recognition as sr\n",
    "import os\n",
    "from dotenv import load_dotenv"
   ]
  },
  {
   "cell_type": "code",
   "execution_count": null,
   "metadata": {},
   "outputs": [
    {
     "name": "stdout",
     "output_type": "stream",
     "text": [
      "* Running on local URL:  http://127.0.0.1:7860\n",
      "* Running on public URL: https://d84bc8f32f35396efb.gradio.live\n",
      "\n",
      "This share link expires in 72 hours. For free permanent hosting and GPU upgrades, run `gradio deploy` from the terminal in the working directory to deploy to Hugging Face Spaces (https://huggingface.co/spaces)\n"
     ]
    },
    {
     "data": {
      "text/html": [
       "<div><iframe src=\"https://d84bc8f32f35396efb.gradio.live\" width=\"100%\" height=\"500\" allow=\"autoplay; camera; microphone; clipboard-read; clipboard-write;\" frameborder=\"0\" allowfullscreen></iframe></div>"
      ],
      "text/plain": [
       "<IPython.core.display.HTML object>"
      ]
     },
     "metadata": {},
     "output_type": "display_data"
    },
    {
     "data": {
      "text/plain": []
     },
     "execution_count": 4,
     "metadata": {},
     "output_type": "execute_result"
    },
    {
     "name": "stderr",
     "output_type": "stream",
     "text": [
      "C:\\Users\\elcoo\\AppData\\Local\\Temp\\ipykernel_4492\\2101465390.py:38: LangChainDeprecationWarning: This class is deprecated. See the following migration guides for replacements based on `chain_type`:\n",
      "stuff: https://python.langchain.com/docs/versions/migrating_chains/stuff_docs_chain\n",
      "map_reduce: https://python.langchain.com/docs/versions/migrating_chains/map_reduce_chain\n",
      "refine: https://python.langchain.com/docs/versions/migrating_chains/refine_chain\n",
      "map_rerank: https://python.langchain.com/docs/versions/migrating_chains/map_rerank_docs_chain\n",
      "\n",
      "See also guides on retrieval and question-answering here: https://python.langchain.com/docs/how_to/#qa-with-rag\n",
      "  chain = load_qa_chain(llm)\n"
     ]
    }
   ],
   "source": [
    "# Load environment variables\n",
    "load_dotenv()\n",
    "\n",
    "# Set the model name for our LLMs\n",
    "OPENAI_MODEL = \"gpt-4\"\n",
    "OPENAI_API_KEY = os.getenv(\"OPENAI_API_KEY\")\n",
    "\n",
    "\n",
    "def recognize_speech(audio):\n",
    "    recognizer = sr.Recognizer()\n",
    "    \n",
    "    with sr.AudioFile(audio) as source:\n",
    "        audio_data = recognizer.record(source)\n",
    "    \n",
    "    try:\n",
    "        text = recognizer.recognize_google(audio_data)\n",
    "        return text\n",
    "    except sr.UnknownValueError:\n",
    "        return \"Could not understand audio\"\n",
    "    except sr.RequestError as e:\n",
    "        return f\"Could not request results; {e}\"\n",
    "\n",
    "\n",
    "\n",
    "def chat_with_ai(text):\n",
    "    llm = ChatOpenAI(openai_api_key=OPENAI_API_KEY, model_name=OPENAI_MODEL, temperature=0.5)\n",
    "    \n",
    "    # Load documents from multiple Wikipedia topics\n",
    "    documents = []\n",
    "    for topic in wiki_list:\n",
    "        wiki_docs = WikipediaLoader(query=topic, load_max_docs=1, load_all_available_meta=True).load()\n",
    "        documents.extend(wiki_docs)\n",
    "    \n",
    "    # Combine all documents into a single text\n",
    "    combined_text = \"\\n\\n\".join([doc.page_content for doc in documents])\n",
    "    combined_doc = Document(page_content=combined_text)\n",
    "    \n",
    "    chain = load_qa_chain(llm)\n",
    "    result = chain.invoke({\"input_documents\": [combined_doc], \"question\": text})\n",
    "    return result[\"output_text\"]\n",
    "\n",
    "\n",
    "\n",
    "def speech_to_ai_chat(audio, history):\n",
    "    text_input = recognize_speech(audio)\n",
    "    \n",
    "    if text_input.startswith(\"Could not\"):\n",
    "        return text_input, \"\", history\n",
    "\n",
    "    ai_response = chat_with_ai(text_input)\n",
    "    \n",
    "    updated_history = history + [(text_input, ai_response)]\n",
    "    return text_input, ai_response, updated_history\n",
    "\n",
    "\n",
    "\n",
    "# Define Gradio interface\n",
    "iface = gr.Interface(\n",
    "    fn=speech_to_ai_chat,\n",
    "    inputs=[\n",
    "        gr.Audio(sources=\"microphone\", type=\"filepath\"),\n",
    "        gr.State([])  # This will store the conversation history\n",
    "    ],\n",
    "    outputs=[\n",
    "        gr.Textbox(label=\"Audio Conversion\"),\n",
    "        gr.Textbox(label=\"AI Response\"),\n",
    "        gr.State()  # This will update the conversation history\n",
    "    ],\n",
    "    title=\"Speech-to-Text Baseball Coach AI\",\n",
    "    description=\"Speak into your microphone to ask questions about the Colorado Rockies!\"\n",
    ")\n",
    "\n",
    "iface.launch(share=True)\n"
   ]
  }
 ],
 "metadata": {
  "kernelspec": {
   "display_name": "base",
   "language": "python",
   "name": "python3"
  },
  "language_info": {
   "codemirror_mode": {
    "name": "ipython",
    "version": 3
   },
   "file_extension": ".py",
   "mimetype": "text/x-python",
   "name": "python",
   "nbconvert_exporter": "python",
   "pygments_lexer": "ipython3",
   "version": "3.11.7"
  }
 },
 "nbformat": 4,
 "nbformat_minor": 2
}

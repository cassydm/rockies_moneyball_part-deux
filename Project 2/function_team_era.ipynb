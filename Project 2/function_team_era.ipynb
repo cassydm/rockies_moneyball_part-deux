{
 "cells": [
  {
   "cell_type": "code",
   "execution_count": 1,
   "metadata": {},
   "outputs": [
    {
     "ename": "ModuleNotFoundError",
     "evalue": "No module named 'pybaseball'",
     "output_type": "error",
     "traceback": [
      "\u001b[1;31m---------------------------------------------------------------------------\u001b[0m",
      "\u001b[1;31mModuleNotFoundError\u001b[0m                       Traceback (most recent call last)",
      "Cell \u001b[1;32mIn[1], line 3\u001b[0m\n\u001b[0;32m      1\u001b[0m \u001b[38;5;28;01mimport\u001b[39;00m \u001b[38;5;21;01mpandas\u001b[39;00m \u001b[38;5;28;01mas\u001b[39;00m \u001b[38;5;21;01mpd\u001b[39;00m\n\u001b[0;32m      2\u001b[0m \u001b[38;5;28;01mfrom\u001b[39;00m \u001b[38;5;21;01mdatetime\u001b[39;00m \u001b[38;5;28;01mimport\u001b[39;00m datetime\n\u001b[1;32m----> 3\u001b[0m \u001b[38;5;28;01mfrom\u001b[39;00m \u001b[38;5;21;01mpybaseball\u001b[39;00m \u001b[38;5;28;01mimport\u001b[39;00m statcast\n",
      "\u001b[1;31mModuleNotFoundError\u001b[0m: No module named 'pybaseball'"
     ]
    }
   ],
   "source": [
    "import pandas as pd\n",
    "from datetime import datetime\n",
    "from pybaseball import statcast\n"
   ]
  },
  {
   "cell_type": "code",
   "execution_count": null,
   "metadata": {},
   "outputs": [],
   "source": [
    "# Define the date of the game\n",
    "game_date = \"2023-08-01\"\n",
    "\n",
    "# Pull all Statcast data for that date\n",
    "data = statcast(start_dt=game_date, end_dt=game_date)\n",
    "\n",
    "# Filter data for the specific team (e.g., New York Yankees)\n",
    "team_data = data[data['home_team'] == 'NYY'] "
   ]
  },
  {
   "cell_type": "code",
   "execution_count": null,
   "metadata": {},
   "outputs": [],
   "source": [
    "def team_era_multiple_years(team, start_date, end_date):\n",
    "    \"\"\"\n",
    "    Calculate the team's Earned Run Average (ERA) over multiple years.\n",
    "\n",
    "    Parameters:\n",
    "    team (str): The team name for which ERA needs to be calculated.\n",
    "    start_date (str): The start date of the range in 'YYYY-MM-DD' format.\n",
    "    end_date (str): The end date of the range in 'YYYY-MM-DD' format.\n",
    "\n",
    "    Returns:\n",
    "    float: The ERA for the specified range, or \"error\" if an exception occurs.\n",
    "    \"\"\"\n"
   ]
  },
  {
   "cell_type": "code",
   "execution_count": null,
   "metadata": {},
   "outputs": [],
   "source": [
    "# Convert input dates to pandas datetime format\n",
    "start_dt = pd.to_datetime(start_date)\n",
    "end_dt = pd.to_datetime(end_date)\n",
    "    \n",
    "if end_dt >= pd.to_datetime(datetime.today().strftime('%Y-%m-%d')):\n",
    "    return -1\n",
    "try:\n",
    "    # Initialize variables to accumulate statistics\n",
    "    total_earned_runs = 0\n",
    "    total_innings_pitched = 0\n",
    "        \n",
    "    # Generate date range\n",
    "    dates = pd.date_range(start=start_dt, end=end_dt, freq='D')\n",
    "\n",
    "    for game_date in dates:\n",
    "            game_date_str = game_date.strftime('%Y-%m-%d')\n",
    "            data = statcast(start_dt=game_date_str, end_dt=game_date_str, team=team)\n",
    "            \n",
    "            # Check if data is available\n",
    "            if data.empty:\n",
    "                continue\n",
    "\n",
    "            # Calculate components for ERA\n",
    "            earned_runs = data['earned_runs'].sum()\n",
    "            innings_pitched = data['innings_pitched'].sum()\n",
    "\n",
    "            total_earned_runs += earned_runs\n",
    "            total_innings_pitched += innings_pitched\n",
    "        \n",
    "        # Calculate ERA\n",
    "        era = (total_earned_runs / total_innings_pitched) * 9 if total_innings_pitched > 0 else 0\n",
    "        return era       \n",
    "\n",
    "    except Exception:\n",
    "        return \"error\"\n"
   ]
  }
 ],
 "metadata": {
  "kernelspec": {
   "display_name": "base",
   "language": "python",
   "name": "python3"
  },
  "language_info": {
   "codemirror_mode": {
    "name": "ipython",
    "version": 3
   },
   "file_extension": ".py",
   "mimetype": "text/x-python",
   "name": "python",
   "nbconvert_exporter": "python",
   "pygments_lexer": "ipython3",
   "version": "3.11.7"
  }
 },
 "nbformat": 4,
 "nbformat_minor": 2
}

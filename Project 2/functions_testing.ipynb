{
 "cells": [
  {
   "cell_type": "code",
   "execution_count": 1,
   "metadata": {},
   "outputs": [],
   "source": [
    "import pandas as pd\n",
    "from pybaseball import statcast\n",
    "from datetime import datetime"
   ]
  },
  {
   "cell_type": "code",
   "execution_count": null,
   "metadata": {},
   "outputs": [],
   "source": [
    "# Define the date of the game\n",
    "game_date = \"2023-08-01\"\n",
    "\n",
    "# Pull all Statcast data for that date\n",
    "data = statcast(start_dt=game_date, end_dt=game_date)\n",
    "\n",
    "# Filter data for the specific team (e.g., New York Yankees)\n",
    "team_data = data[data['home_team'] == 'NYY']"
   ]
  },
  {
   "cell_type": "code",
   "execution_count": null,
   "metadata": {},
   "outputs": [],
   "source": [
    "# Calculate hits and at-bats\n",
    "# 'events' column can be used to determine hits ('single', 'double', 'triple', 'home_run')\n",
    "hits = team_data['events'].isin(['single', 'double', 'triple', 'home_run']).sum()\n",
    "at_bats = team_data['events'].isin(['single', 'double', 'triple', 'home_run', 'strikeout', 'field_out', 'grounded_into_double_play']).sum()\n",
    "\n",
    "print(hits)\n",
    "print(at_bats)"
   ]
  },
  {
   "cell_type": "code",
   "execution_count": null,
   "metadata": {},
   "outputs": [],
   "source": [
    "# Calculate batting average\n",
    "batting_average = hits / at_bats if at_bats > 0 else 0"
   ]
  },
  {
   "cell_type": "code",
   "execution_count": null,
   "metadata": {},
   "outputs": [],
   "source": [
    "print(f\"Team Batting Average for {game_date}: {batting_average:.3f}\")"
   ]
  },
  {
   "cell_type": "code",
   "execution_count": null,
   "metadata": {},
   "outputs": [],
   "source": [
    "def team_batting_avg(team, date):\n",
    "    # Define the date of the game\n",
    "    game_date = str(date)\n",
    "\n",
    "    # Pull all Statcast data for that date\n",
    "    data = statcast(start_dt=game_date, end_dt=game_date, team=team)\n",
    "\n",
    "    # Filter data for the specific team (e.g., New York Yankees)\n",
    "    team_data = data\n",
    "\n",
    "    # Calculate hits and at-bats\n",
    "    # 'events' column can be used to determine hits ('single', 'double', 'triple', 'home_run')\n",
    "    hits = team_data['events'].isin(['single', 'double', 'triple', 'home_run']).sum()\n",
    "    at_bats = team_data['events'].isin(['single', 'double', 'triple', 'home_run', 'strikeout', 'field_out', 'grounded_into_double_play']).sum()\n",
    "\n",
    "    # Calculate batting average\n",
    "    batting_average = hits / at_bats if at_bats > 0 else 0\n",
    "    print(f\"Team Batting Average for {game_date}: {batting_average:.3f}\")"
   ]
  },
  {
   "cell_type": "code",
   "execution_count": null,
   "metadata": {},
   "outputs": [],
   "source": [
    "team_batting_avg(\"MIA\", \"2024-08-28\")"
   ]
  },
  {
   "cell_type": "code",
   "execution_count": null,
   "metadata": {},
   "outputs": [],
   "source": [
    "def team_obp(team, date):\n",
    "    # Define the date of the game\n",
    "    game_date = str(date)\n",
    "\n",
    "    # Pull all Statcast data for that date\n",
    "    data = statcast(start_dt=game_date, end_dt=game_date, team=team)\n",
    "\n",
    "    # Filter data for the specific team (e.g., Miami Marlins)\n",
    "    team_data = data\n",
    "\n",
    "    # Calculate components for OBP\n",
    "    hits = team_data['events'].isin(['single', 'double', 'triple', 'home_run']).sum()\n",
    "    walks = team_data['events'].isin(['walk']).sum()\n",
    "    hit_by_pitch = team_data['events'].isin(['hit_by_pitch']).sum()\n",
    "    at_bats = team_data['events'].isin(['single', 'double', 'triple', 'home_run', 'strikeout', 'field_out', 'grounded_into_double_play']).sum()\n",
    "    sacrifice_flies = team_data['events'].isin(['sac_fly']).sum()\n",
    "\n",
    "    # Calculate OBP\n",
    "    obp = (hits + walks + hit_by_pitch) / (at_bats + walks + hit_by_pitch + sacrifice_flies) if (at_bats + walks + hit_by_pitch + sacrifice_flies) > 0 else 0\n",
    "\n",
    "    print(f\"Team OBP for {game_date}: {obp:.3f}\")"
   ]
  },
  {
   "cell_type": "code",
   "execution_count": null,
   "metadata": {},
   "outputs": [],
   "source": [
    "team_obp(\"MIA\", \"2024-08-28\")"
   ]
  },
  {
   "cell_type": "code",
   "execution_count": null,
   "metadata": {},
   "outputs": [],
   "source": [
    "def team_stats(team, date):\n",
    "    # Define the date of the game\n",
    "    game_date = str(date)\n",
    "\n",
    "    # Pull all Statcast data for that date\n",
    "    data = statcast(start_dt=game_date, end_dt=game_date, team=team)\n",
    "\n",
    "    # Filter data for the specific team (e.g., Miami Marlins)\n",
    "    team_data = data\n",
    "\n",
    "    # Calculate components for OBP\n",
    "    hits = team_data['events'].isin(['single', 'double', 'triple', 'home_run']).sum()\n",
    "    walks = team_data['events'].isin(['walk']).sum()\n",
    "    at_bats = team_data['events'].isin(['single', 'double', 'triple', 'home_run', 'strikeout', 'field_out', 'grounded_into_double_play']).sum()\n",
    "\n",
    "    #print\n",
    "    print(f\"hits: {hits}\")\n",
    "    print(f\"walks: {walks}\")\n",
    "    print(f\"at bats: {at_bats}\")\n",
    "\n"
   ]
  },
  {
   "cell_type": "code",
   "execution_count": null,
   "metadata": {},
   "outputs": [],
   "source": [
    "team_stats(\"COL\", \"2024-08-28\")"
   ]
  },
  {
   "cell_type": "code",
   "execution_count": null,
   "metadata": {},
   "outputs": [],
   "source": [
    "def team_obp(team, date):\n",
    "    # Define the date of the game\n",
    "    game_date = str(date)\n",
    "    if pd.to_datetime(game_date) >= pd.to_datetime(datetime.today().strftime('%Y-%m-%d')):\n",
    "        return -1\n",
    "    else:\n",
    "        # Pull all Statcast data for that date\n",
    "        data = statcast(start_dt=game_date, end_dt=game_date, team=team)\n",
    "\n",
    "        # Filter data for the specific team (e.g., Miami Marlins)\n",
    "        team_data = data\n",
    "\n",
    "        # Calculate components for OBP\n",
    "        hits = team_data['events'].isin(['single', 'double', 'triple', 'home_run']).sum()\n",
    "        walks = team_data['events'].isin(['walk']).sum()\n",
    "        hit_by_pitch = team_data['events'].isin(['hit_by_pitch']).sum()\n",
    "        at_bats = team_data['events'].isin(['single', 'double', 'triple', 'home_run', 'strikeout', 'field_out', 'grounded_into_double_play']).sum()\n",
    "        sacrifice_flies = team_data['events'].isin(['sac_fly']).sum()\n",
    "\n",
    "        # Calculate OBP\n",
    "        obp = (hits + walks + hit_by_pitch) / (at_bats + walks + hit_by_pitch + sacrifice_flies) if (at_bats + walks + hit_by_pitch + sacrifice_flies) > 0 else 0\n",
    "        return obp\n",
    "        # print(f\"Team OBP for {game_date}: {obp:.3f}\")"
   ]
  },
  {
   "cell_type": "code",
   "execution_count": null,
   "metadata": {},
   "outputs": [],
   "source": [
    "team_obp(\"COL\", \"2024-08-28\")"
   ]
  },
  {
   "cell_type": "code",
   "execution_count": null,
   "metadata": {},
   "outputs": [],
   "source": [
    "def team_batting_avg(team, date):\n",
    "    # Define the date of the game\n",
    "    game_date = str(date)\n",
    "    if pd.to_datetime(game_date) >= pd.to_datetime(datetime.today().strftime('%Y-%m-%d')):\n",
    "        return -1\n",
    "    else:\n",
    "        # Pull all Statcast data for that date\n",
    "        data = statcast(start_dt=game_date, end_dt=game_date, team=team)\n",
    "\n",
    "        # Filter data for the specific team (e.g., New York Yankees)\n",
    "        team_data = data\n",
    "\n",
    "        # Calculate hits and at-bats\n",
    "        # 'events' column can be used to determine hits ('single', 'double', 'triple', 'home_run')\n",
    "        hits = team_data['events'].isin(['single', 'double', 'triple', 'home_run']).sum()\n",
    "        at_bats = team_data['events'].isin(['single', 'double', 'triple', 'home_run', 'strikeout', 'field_out', 'grounded_into_double_play']).sum()\n",
    "\n",
    "        # Calculate batting average\n",
    "        batting_average = hits / at_bats if at_bats > 0 else 0\n",
    "        return batting_average\n",
    "        #print(f\"Team Batting Average for {game_date}: {batting_average:.3f}\")"
   ]
  },
  {
   "cell_type": "code",
   "execution_count": null,
   "metadata": {},
   "outputs": [],
   "source": [
    "team_batting_avg(\"COL\", \"2024-08-28\")"
   ]
  },
  {
   "cell_type": "code",
   "execution_count": null,
   "metadata": {},
   "outputs": [],
   "source": [
    "def team_stats(team, date, stat_name):\n",
    "    # Define the date of the game\n",
    "    game_date = str(date)\n",
    "    if pd.to_datetime(game_date) >= pd.to_datetime(datetime.today().strftime('%Y-%m-%d')):\n",
    "        return -1\n",
    "    else:\n",
    "        # Pull all Statcast data for that date\n",
    "        data = statcast(start_dt=game_date, end_dt=game_date, team=team)\n",
    "\n",
    "        # Filter data for the specific team (e.g., Miami Marlins)\n",
    "        team_data = data\n",
    "\n",
    "        # Calculate components for OBP\n",
    "        hits = team_data['events'].isin(['single', 'double', 'triple', 'home_run']).sum()\n",
    "        walks = team_data['events'].isin(['walk']).sum()\n",
    "        at_bats = team_data['events'].isin(['single', 'double', 'triple', 'home_run', 'strikeout', 'field_out', 'grounded_into_double_play']).sum()\n",
    "        home_runs = team_data['events'].isin(['home_run']).sum()\n",
    "        strikeouts = team_data['events'].isin(['strikeout', 'strikeout_double_play']).sum()\n",
    "\n",
    "        # return stat\n",
    "        if stat_name == \"hits\":\n",
    "            return hits\n",
    "        elif stat_name == \"walks\":\n",
    "            return walks\n",
    "        elif stat_name == \"at bats\":\n",
    "            return at_bats\n",
    "        elif stat_name == \"home runs\":\n",
    "            return home_runs\n",
    "        elif stat_name == \"strikeouts\":\n",
    "            return strikeouts\n",
    "        else:\n",
    "            return \"UNKNOWN\""
   ]
  },
  {
   "cell_type": "code",
   "execution_count": null,
   "metadata": {},
   "outputs": [],
   "source": [
    "team_stats(\"COL\", \"2024-08-28\", \"hits\")"
   ]
  },
  {
   "cell_type": "code",
   "execution_count": null,
   "metadata": {},
   "outputs": [],
   "source": [
    "from pybaseball import team_batting"
   ]
  },
  {
   "cell_type": "code",
   "execution_count": null,
   "metadata": {},
   "outputs": [],
   "source": [
    "# Fetch the team's batting data for the current season\n",
    "batting_data = team_batting(2024)\n",
    "batting_data.head()"
   ]
  },
  {
   "cell_type": "code",
   "execution_count": null,
   "metadata": {},
   "outputs": [],
   "source": [
    "# Check if 'Team' is a column and print unique team names\n",
    "if 'Team' in batting_data.columns:\n",
    "    print(batting_data['Team'].unique())"
   ]
  },
  {
   "cell_type": "code",
   "execution_count": null,
   "metadata": {},
   "outputs": [],
   "source": [
    "# Assuming 'Team' is the correct column, filter the data for the specific team\n",
    "team = str(COL)  \n",
    "year = 2024\n",
    "if 'Team' in batting_data.columns and team in batting_data['Team'].values:\n",
    "    team_data = batting_data[batting_data['Team'] == team]\n",
    "    # Calculate the total hits and at-bats\n",
    "    total_hits = team_data['H'].sum()\n",
    "    total_at_bats = team_data['AB'].sum()\n",
    "\n",
    "    # Calculate the batting average\n",
    "    batting_average = total_hits / total_at_bats if total_at_bats > 0 else 0\n",
    "    \n",
    "    # Display the result\n",
    "    print(f\"{team} Team Batting Average for {year}: {batting_average:.3f}\")"
   ]
  },
  {
   "cell_type": "code",
   "execution_count": 3,
   "metadata": {},
   "outputs": [
    {
     "data": {
      "text/plain": [
       "0.24317513649727004"
      ]
     },
     "execution_count": 3,
     "metadata": {},
     "output_type": "execute_result"
    }
   ],
   "source": [
    "from functions import team_ba_season\n",
    "\n",
    "team_ba_season(\"COL\", 2024)\n"
   ]
  }
 ],
 "metadata": {
  "kernelspec": {
   "display_name": "base",
   "language": "python",
   "name": "python3"
  },
  "language_info": {
   "codemirror_mode": {
    "name": "ipython",
    "version": 3
   },
   "file_extension": ".py",
   "mimetype": "text/x-python",
   "name": "python",
   "nbconvert_exporter": "python",
   "pygments_lexer": "ipython3",
   "version": "3.11.7"
  }
 },
 "nbformat": 4,
 "nbformat_minor": 2
}

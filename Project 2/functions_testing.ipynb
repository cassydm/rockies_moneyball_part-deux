{
 "cells": [
  {
   "cell_type": "markdown",
   "metadata": {},
   "source": [
    "# This file is only used to test and debug custom functions\n",
    "- it is not linked to, and has no impact on, the data collection, clean-up, machine learning models, predictions or visualizations"
   ]
  },
  {
   "cell_type": "code",
   "execution_count": null,
   "metadata": {},
   "outputs": [],
   "source": [
    "import pandas as pd\n",
    "from pybaseball import statcast\n",
    "from datetime import datetime"
   ]
  },
  {
   "cell_type": "code",
   "execution_count": null,
   "metadata": {},
   "outputs": [],
   "source": [
    "# Define the date of the game\n",
    "game_date = \"2023-08-01\"\n",
    "\n",
    "# Pull all Statcast data for that date\n",
    "data = statcast(start_dt=game_date, end_dt=game_date)\n",
    "\n",
    "# Filter data for the specific team (e.g., New York Yankees)\n",
    "team_data = data[data['home_team'] == 'NYY']"
   ]
  },
  {
   "cell_type": "code",
   "execution_count": null,
   "metadata": {},
   "outputs": [],
   "source": [
    "# Calculate hits and at-bats\n",
    "# 'events' column can be used to determine hits ('single', 'double', 'triple', 'home_run')\n",
    "hits = team_data['events'].isin(['single', 'double', 'triple', 'home_run']).sum()\n",
    "at_bats = team_data['events'].isin(['single', 'double', 'triple', 'home_run', 'strikeout', 'field_out', 'grounded_into_double_play']).sum()\n",
    "\n",
    "print(hits)\n",
    "print(at_bats)"
   ]
  },
  {
   "cell_type": "code",
   "execution_count": null,
   "metadata": {},
   "outputs": [],
   "source": [
    "# Calculate batting average\n",
    "batting_average = hits / at_bats if at_bats > 0 else 0"
   ]
  },
  {
   "cell_type": "code",
   "execution_count": null,
   "metadata": {},
   "outputs": [],
   "source": [
    "print(f\"Team Batting Average for {game_date}: {batting_average:.3f}\")"
   ]
  },
  {
   "cell_type": "code",
   "execution_count": null,
   "metadata": {},
   "outputs": [],
   "source": [
    "def team_batting_avg(team, date):\n",
    "    # Define the date of the game\n",
    "    game_date = str(date)\n",
    "\n",
    "    # Pull all Statcast data for that date\n",
    "    data = statcast(start_dt=game_date, end_dt=game_date, team=team)\n",
    "\n",
    "    # Filter data for the specific team (e.g., New York Yankees)\n",
    "    team_data = data\n",
    "\n",
    "    # Calculate hits and at-bats\n",
    "    # 'events' column can be used to determine hits ('single', 'double', 'triple', 'home_run')\n",
    "    hits = team_data['events'].isin(['single', 'double', 'triple', 'home_run']).sum()\n",
    "    at_bats = team_data['events'].isin(['single', 'double', 'triple', 'home_run', 'strikeout', 'field_out', 'grounded_into_double_play']).sum()\n",
    "\n",
    "    # Calculate batting average\n",
    "    batting_average = hits / at_bats if at_bats > 0 else 0\n",
    "    print(f\"Team Batting Average for {game_date}: {batting_average:.3f}\")"
   ]
  },
  {
   "cell_type": "code",
   "execution_count": null,
   "metadata": {},
   "outputs": [],
   "source": [
    "team_batting_avg(\"MIA\", \"2024-08-28\")"
   ]
  },
  {
   "cell_type": "code",
   "execution_count": null,
   "metadata": {},
   "outputs": [],
   "source": [
    "def team_obp(team, date):\n",
    "    # Define the date of the game\n",
    "    game_date = str(date)\n",
    "\n",
    "    # Pull all Statcast data for that date\n",
    "    data = statcast(start_dt=game_date, end_dt=game_date, team=team)\n",
    "\n",
    "    # Filter data for the specific team (e.g., Miami Marlins)\n",
    "    team_data = data\n",
    "\n",
    "    # Calculate components for OBP\n",
    "    hits = team_data['events'].isin(['single', 'double', 'triple', 'home_run']).sum()\n",
    "    walks = team_data['events'].isin(['walk']).sum()\n",
    "    hit_by_pitch = team_data['events'].isin(['hit_by_pitch']).sum()\n",
    "    at_bats = team_data['events'].isin(['single', 'double', 'triple', 'home_run', 'strikeout', 'field_out', 'grounded_into_double_play']).sum()\n",
    "    sacrifice_flies = team_data['events'].isin(['sac_fly']).sum()\n",
    "\n",
    "    # Calculate OBP\n",
    "    obp = (hits + walks + hit_by_pitch) / (at_bats + walks + hit_by_pitch + sacrifice_flies) if (at_bats + walks + hit_by_pitch + sacrifice_flies) > 0 else 0\n",
    "\n",
    "    print(f\"Team OBP for {game_date}: {obp:.3f}\")"
   ]
  },
  {
   "cell_type": "code",
   "execution_count": null,
   "metadata": {},
   "outputs": [],
   "source": [
    "team_obp(\"MIA\", \"2024-08-28\")"
   ]
  },
  {
   "cell_type": "code",
   "execution_count": null,
   "metadata": {},
   "outputs": [],
   "source": [
    "def team_stats(team, date):\n",
    "    # Define the date of the game\n",
    "    game_date = str(date)\n",
    "\n",
    "    # Pull all Statcast data for that date\n",
    "    data = statcast(start_dt=game_date, end_dt=game_date, team=team)\n",
    "\n",
    "    # Filter data for the specific team (e.g., Miami Marlins)\n",
    "    team_data = data\n",
    "\n",
    "    # Calculate components for OBP\n",
    "    hits = team_data['events'].isin(['single', 'double', 'triple', 'home_run']).sum()\n",
    "    walks = team_data['events'].isin(['walk']).sum()\n",
    "    at_bats = team_data['events'].isin(['single', 'double', 'triple', 'home_run', 'strikeout', 'field_out', 'grounded_into_double_play']).sum()\n",
    "\n",
    "    #print\n",
    "    print(f\"hits: {hits}\")\n",
    "    print(f\"walks: {walks}\")\n",
    "    print(f\"at bats: {at_bats}\")\n",
    "\n"
   ]
  },
  {
   "cell_type": "code",
   "execution_count": null,
   "metadata": {},
   "outputs": [],
   "source": [
    "team_stats(\"COL\", \"2024-08-28\")"
   ]
  },
  {
   "cell_type": "code",
   "execution_count": null,
   "metadata": {},
   "outputs": [],
   "source": [
    "def team_obp(team, date):\n",
    "    # Define the date of the game\n",
    "    game_date = str(date)\n",
    "    if pd.to_datetime(game_date) >= pd.to_datetime(datetime.today().strftime('%Y-%m-%d')):\n",
    "        return -1\n",
    "    else:\n",
    "        # Pull all Statcast data for that date\n",
    "        data = statcast(start_dt=game_date, end_dt=game_date, team=team)\n",
    "\n",
    "        # Filter data for the specific team (e.g., Miami Marlins)\n",
    "        team_data = data\n",
    "\n",
    "        # Calculate components for OBP\n",
    "        hits = team_data['events'].isin(['single', 'double', 'triple', 'home_run']).sum()\n",
    "        walks = team_data['events'].isin(['walk']).sum()\n",
    "        hit_by_pitch = team_data['events'].isin(['hit_by_pitch']).sum()\n",
    "        at_bats = team_data['events'].isin(['single', 'double', 'triple', 'home_run', 'strikeout', 'field_out', 'grounded_into_double_play']).sum()\n",
    "        sacrifice_flies = team_data['events'].isin(['sac_fly']).sum()\n",
    "\n",
    "        # Calculate OBP\n",
    "        obp = (hits + walks + hit_by_pitch) / (at_bats + walks + hit_by_pitch + sacrifice_flies) if (at_bats + walks + hit_by_pitch + sacrifice_flies) > 0 else 0\n",
    "        return obp\n",
    "        # print(f\"Team OBP for {game_date}: {obp:.3f}\")"
   ]
  },
  {
   "cell_type": "code",
   "execution_count": null,
   "metadata": {},
   "outputs": [],
   "source": [
    "team_obp(\"COL\", \"2024-08-28\")"
   ]
  },
  {
   "cell_type": "code",
   "execution_count": null,
   "metadata": {},
   "outputs": [],
   "source": [
    "def team_batting_avg(team, date):\n",
    "    # Define the date of the game\n",
    "    game_date = str(date)\n",
    "    if pd.to_datetime(game_date) >= pd.to_datetime(datetime.today().strftime('%Y-%m-%d')):\n",
    "        return -1\n",
    "    else:\n",
    "        # Pull all Statcast data for that date\n",
    "        data = statcast(start_dt=game_date, end_dt=game_date, team=team)\n",
    "\n",
    "        # Filter data for the specific team (e.g., New York Yankees)\n",
    "        team_data = data\n",
    "\n",
    "        # Calculate hits and at-bats\n",
    "        # 'events' column can be used to determine hits ('single', 'double', 'triple', 'home_run')\n",
    "        hits = team_data['events'].isin(['single', 'double', 'triple', 'home_run']).sum()\n",
    "        at_bats = team_data['events'].isin(['single', 'double', 'triple', 'home_run', 'strikeout', 'field_out', 'grounded_into_double_play']).sum()\n",
    "\n",
    "        # Calculate batting average\n",
    "        batting_average = hits / at_bats if at_bats > 0 else 0\n",
    "        return batting_average\n",
    "        #print(f\"Team Batting Average for {game_date}: {batting_average:.3f}\")"
   ]
  },
  {
   "cell_type": "code",
   "execution_count": null,
   "metadata": {},
   "outputs": [],
   "source": [
    "team_batting_avg(\"COL\", \"2024-08-28\")"
   ]
  },
  {
   "cell_type": "code",
   "execution_count": null,
   "metadata": {},
   "outputs": [],
   "source": [
    "def team_stats(team, date, stat_name):\n",
    "    # Define the date of the game\n",
    "    game_date = str(date)\n",
    "    if pd.to_datetime(game_date) >= pd.to_datetime(datetime.today().strftime('%Y-%m-%d')):\n",
    "        return -1\n",
    "    else:\n",
    "        # Pull all Statcast data for that date\n",
    "        data = statcast(start_dt=game_date, end_dt=game_date, team=team)\n",
    "\n",
    "        # Filter data for the specific team (e.g., Miami Marlins)\n",
    "        team_data = data\n",
    "\n",
    "        # Calculate components for OBP\n",
    "        hits = team_data['events'].isin(['single', 'double', 'triple', 'home_run']).sum()\n",
    "        walks = team_data['events'].isin(['walk']).sum()\n",
    "        at_bats = team_data['events'].isin(['single', 'double', 'triple', 'home_run', 'strikeout', 'field_out', 'grounded_into_double_play']).sum()\n",
    "        home_runs = team_data['events'].isin(['home_run']).sum()\n",
    "        strikeouts = team_data['events'].isin(['strikeout', 'strikeout_double_play']).sum()\n",
    "\n",
    "        # return stat\n",
    "        if stat_name == \"hits\":\n",
    "            return hits\n",
    "        elif stat_name == \"walks\":\n",
    "            return walks\n",
    "        elif stat_name == \"at bats\":\n",
    "            return at_bats\n",
    "        elif stat_name == \"home runs\":\n",
    "            return home_runs\n",
    "        elif stat_name == \"strikeouts\":\n",
    "            return strikeouts\n",
    "        else:\n",
    "            return \"UNKNOWN\""
   ]
  },
  {
   "cell_type": "code",
   "execution_count": null,
   "metadata": {},
   "outputs": [],
   "source": [
    "team_stats(\"COL\", \"2024-08-28\", \"hits\")"
   ]
  },
  {
   "cell_type": "code",
   "execution_count": null,
   "metadata": {},
   "outputs": [],
   "source": [
    "from pybaseball import team_batting"
   ]
  },
  {
   "cell_type": "code",
   "execution_count": null,
   "metadata": {},
   "outputs": [],
   "source": [
    "# Fetch the team's batting data for the current season\n",
    "batting_data = team_batting(2024)\n",
    "batting_data.head()"
   ]
  },
  {
   "cell_type": "code",
   "execution_count": null,
   "metadata": {},
   "outputs": [],
   "source": [
    "# Check if 'Team' is a column and print unique team names\n",
    "if 'Team' in batting_data.columns:\n",
    "    print(batting_data['Team'].unique())"
   ]
  },
  {
   "cell_type": "code",
   "execution_count": null,
   "metadata": {},
   "outputs": [],
   "source": [
    "# Assuming 'Team' is the correct column, filter the data for the specific team\n",
    "team = str(COL)  \n",
    "year = 2024\n",
    "if 'Team' in batting_data.columns and team in batting_data['Team'].values:\n",
    "    team_data = batting_data[batting_data['Team'] == team]\n",
    "    # Calculate the total hits and at-bats\n",
    "    total_hits = team_data['H'].sum()\n",
    "    total_at_bats = team_data['AB'].sum()\n",
    "\n",
    "    # Calculate the batting average\n",
    "    batting_average = total_hits / total_at_bats if total_at_bats > 0 else 0\n",
    "    \n",
    "    # Display the result\n",
    "    print(f\"{team} Team Batting Average for {year}: {batting_average:.3f}\")"
   ]
  },
  {
   "cell_type": "code",
   "execution_count": null,
   "metadata": {},
   "outputs": [],
   "source": [
    "from functions import team_ba_season\n",
    "\n",
    "team_ba_season(\"COL\", 2024)\n"
   ]
  },
  {
   "cell_type": "code",
   "execution_count": null,
   "metadata": {},
   "outputs": [],
   "source": [
    "team = \"COL\"\n",
    "batting_data = team_batting(2024)\n",
    "team_stats = batting_data[batting_data['Team'] == str(team)]\n"
   ]
  },
  {
   "cell_type": "code",
   "execution_count": null,
   "metadata": {},
   "outputs": [],
   "source": [
    "if 'Team' in batting_data.columns:\n",
    "   print(\"Team in columns\")\n",
    "else: \n",
    "   print(\"No 'Team' in columns\")"
   ]
  },
  {
   "cell_type": "code",
   "execution_count": null,
   "metadata": {},
   "outputs": [],
   "source": [
    "if not team_stats.empty:\n",
    "    print (\"Not empty\")\n",
    "else:\n",
    "    print(\"empty\")"
   ]
  },
  {
   "cell_type": "code",
   "execution_count": null,
   "metadata": {},
   "outputs": [],
   "source": [
    "obp = (team_stats['H'].values[0] + team_stats['BB'].values[0] + team_stats['HBP'].values[0]) / (team_stats['AB'].values[0] + team_stats['BB'].values[0] + team_stats['HBP'].values[0] + team_stats['SF'].values[0])\n",
    "print (obp)"
   ]
  },
  {
   "cell_type": "code",
   "execution_count": null,
   "metadata": {},
   "outputs": [],
   "source": [
    "from functions import team_obp_season\n",
    "\n",
    "team_obp_season(\"COL\")"
   ]
  },
  {
   "cell_type": "code",
   "execution_count": 6,
   "metadata": {},
   "outputs": [
    {
     "data": {
      "text/plain": [
       "0.7060314242270653"
      ]
     },
     "execution_count": 6,
     "metadata": {},
     "output_type": "execute_result"
    }
   ],
   "source": [
    "from functions import team_avg_stats_pergame\n",
    "\n",
    "team_avg_stats_pergame(\"COL\", \"strikeouts\")"
   ]
  },
  {
   "cell_type": "code",
   "execution_count": 1,
   "metadata": {},
   "outputs": [],
   "source": [
    "from pybaseball import statcast, team_batting, schedule_and_record\n",
    "team = \"COL\"\n",
    "batting_data = team_batting(2024)\n",
    "team_stats = batting_data[batting_data['Team'] == str(team)]"
   ]
  },
  {
   "cell_type": "code",
   "execution_count": 2,
   "metadata": {},
   "outputs": [
    {
     "name": "stdout",
     "output_type": "stream",
     "text": [
      "4863\n",
      "2015\n",
      "2.4133995037220846\n"
     ]
    }
   ],
   "source": [
    "# at bat calcs\n",
    "total_at_bats = team_stats['AB'].values[0]\n",
    "games_played = team_stats['G'].values[0]\n",
    "avg_at_bats_pergame = total_at_bats / games_played\n",
    "\n",
    "\n",
    "print(total_at_bats)\n",
    "print(games_played)\n",
    "print(avg_at_bats_pergame)"
   ]
  },
  {
   "cell_type": "code",
   "execution_count": 3,
   "metadata": {},
   "outputs": [
    {
     "name": "stdout",
     "output_type": "stream",
     "text": [
      "http://www.baseball-reference.com/teams/COL/2023-schedule-scores.shtml\n",
      "               Date   Tm Home_Away  Opp W/L    R    RA  Inn  W-L  Rank  \\\n",
      "1  Thursday, Mar 30  COL         @  SDP   W  7.0   2.0  9.0  1-0   1.0   \n",
      "2    Friday, Mar 31  COL         @  SDP   W  4.0   1.0  9.0  2-0   1.0   \n",
      "3   Saturday, Apr 1  COL         @  SDP   L  4.0   8.0  9.0  2-1   1.0   \n",
      "4     Sunday, Apr 2  COL         @  SDP   L  1.0   3.0  9.0  2-2   1.0   \n",
      "5     Monday, Apr 3  COL         @  LAD   L  4.0  13.0  9.0  2-3   4.0   \n",
      "\n",
      "       GB       Win      Loss     Save  Time D/N  Attendance   cLI  Streak  \\\n",
      "1    Tied   Márquez     Snell     None  2:56   N     45103.0  1.03       1   \n",
      "2  up 1.0  Freeland  Martinez  Johnson  2:27   N     43177.0  1.10       2   \n",
      "3    Tied     Wacha     Ureña     None  2:40   N     42663.0  1.12      -1   \n",
      "4    Tied      Lugo    Gomber    Hader  2:03   D     43972.0  1.06      -2   \n",
      "5     1.0   Almonte   Feltner     None  2:47   N     49792.0  1.02      -3   \n",
      "\n",
      "  Orig. Scheduled  \n",
      "1            None  \n",
      "2            None  \n",
      "3            None  \n",
      "4            None  \n",
      "5            None  \n",
      "Index(['Date', 'Tm', 'Home_Away', 'Opp', 'W/L', 'R', 'RA', 'Inn', 'W-L',\n",
      "       'Rank', 'GB', 'Win', 'Loss', 'Save', 'Time', 'D/N', 'Attendance', 'cLI',\n",
      "       'Streak', 'Orig. Scheduled'],\n",
      "      dtype='object')\n"
     ]
    }
   ],
   "source": [
    "\n",
    "# Define the team and year\n",
    "team = 'COL'  # Colorado Rockies\n",
    "year = 2023   # Replace with the desired year\n",
    "\n",
    "# Fetch the schedule and record for the team\n",
    "schedule = schedule_and_record(year, team)\n",
    "\n",
    "# Print the first few rows and the column names to inspect the DataFrame\n",
    "print(schedule.head())\n",
    "print(schedule.columns)"
   ]
  },
  {
   "cell_type": "code",
   "execution_count": 4,
   "metadata": {},
   "outputs": [
    {
     "ename": "KeyError",
     "evalue": "'Result'",
     "output_type": "error",
     "traceback": [
      "\u001b[1;31m---------------------------------------------------------------------------\u001b[0m",
      "\u001b[1;31mKeyError\u001b[0m                                  Traceback (most recent call last)",
      "File \u001b[1;32mc:\\Users\\elcoo\\anaconda3\\Lib\\site-packages\\pandas\\core\\indexes\\base.py:3791\u001b[0m, in \u001b[0;36mIndex.get_loc\u001b[1;34m(self, key)\u001b[0m\n\u001b[0;32m   3790\u001b[0m \u001b[38;5;28;01mtry\u001b[39;00m:\n\u001b[1;32m-> 3791\u001b[0m     \u001b[38;5;28;01mreturn\u001b[39;00m \u001b[38;5;28mself\u001b[39m\u001b[38;5;241m.\u001b[39m_engine\u001b[38;5;241m.\u001b[39mget_loc(casted_key)\n\u001b[0;32m   3792\u001b[0m \u001b[38;5;28;01mexcept\u001b[39;00m \u001b[38;5;167;01mKeyError\u001b[39;00m \u001b[38;5;28;01mas\u001b[39;00m err:\n",
      "File \u001b[1;32mindex.pyx:152\u001b[0m, in \u001b[0;36mpandas._libs.index.IndexEngine.get_loc\u001b[1;34m()\u001b[0m\n",
      "File \u001b[1;32mindex.pyx:181\u001b[0m, in \u001b[0;36mpandas._libs.index.IndexEngine.get_loc\u001b[1;34m()\u001b[0m\n",
      "File \u001b[1;32mpandas\\_libs\\hashtable_class_helper.pxi:7080\u001b[0m, in \u001b[0;36mpandas._libs.hashtable.PyObjectHashTable.get_item\u001b[1;34m()\u001b[0m\n",
      "File \u001b[1;32mpandas\\_libs\\hashtable_class_helper.pxi:7088\u001b[0m, in \u001b[0;36mpandas._libs.hashtable.PyObjectHashTable.get_item\u001b[1;34m()\u001b[0m\n",
      "\u001b[1;31mKeyError\u001b[0m: 'Result'",
      "\nThe above exception was the direct cause of the following exception:\n",
      "\u001b[1;31mKeyError\u001b[0m                                  Traceback (most recent call last)",
      "Cell \u001b[1;32mIn[4], line 2\u001b[0m\n\u001b[0;32m      1\u001b[0m \u001b[38;5;66;03m# Assuming 'Result' is the correct column indicating game completion\u001b[39;00m\n\u001b[1;32m----> 2\u001b[0m completed_games \u001b[38;5;241m=\u001b[39m schedule[schedule[\u001b[38;5;124m'\u001b[39m\u001b[38;5;124mResult\u001b[39m\u001b[38;5;124m'\u001b[39m]\u001b[38;5;241m.\u001b[39mnotnull()]\n\u001b[0;32m      4\u001b[0m \u001b[38;5;66;03m# Get the total number of games played so far\u001b[39;00m\n\u001b[0;32m      5\u001b[0m total_games_played \u001b[38;5;241m=\u001b[39m \u001b[38;5;28mlen\u001b[39m(completed_games)\n",
      "File \u001b[1;32mc:\\Users\\elcoo\\anaconda3\\Lib\\site-packages\\pandas\\core\\frame.py:3893\u001b[0m, in \u001b[0;36mDataFrame.__getitem__\u001b[1;34m(self, key)\u001b[0m\n\u001b[0;32m   3891\u001b[0m \u001b[38;5;28;01mif\u001b[39;00m \u001b[38;5;28mself\u001b[39m\u001b[38;5;241m.\u001b[39mcolumns\u001b[38;5;241m.\u001b[39mnlevels \u001b[38;5;241m>\u001b[39m \u001b[38;5;241m1\u001b[39m:\n\u001b[0;32m   3892\u001b[0m     \u001b[38;5;28;01mreturn\u001b[39;00m \u001b[38;5;28mself\u001b[39m\u001b[38;5;241m.\u001b[39m_getitem_multilevel(key)\n\u001b[1;32m-> 3893\u001b[0m indexer \u001b[38;5;241m=\u001b[39m \u001b[38;5;28mself\u001b[39m\u001b[38;5;241m.\u001b[39mcolumns\u001b[38;5;241m.\u001b[39mget_loc(key)\n\u001b[0;32m   3894\u001b[0m \u001b[38;5;28;01mif\u001b[39;00m is_integer(indexer):\n\u001b[0;32m   3895\u001b[0m     indexer \u001b[38;5;241m=\u001b[39m [indexer]\n",
      "File \u001b[1;32mc:\\Users\\elcoo\\anaconda3\\Lib\\site-packages\\pandas\\core\\indexes\\base.py:3798\u001b[0m, in \u001b[0;36mIndex.get_loc\u001b[1;34m(self, key)\u001b[0m\n\u001b[0;32m   3793\u001b[0m     \u001b[38;5;28;01mif\u001b[39;00m \u001b[38;5;28misinstance\u001b[39m(casted_key, \u001b[38;5;28mslice\u001b[39m) \u001b[38;5;129;01mor\u001b[39;00m (\n\u001b[0;32m   3794\u001b[0m         \u001b[38;5;28misinstance\u001b[39m(casted_key, abc\u001b[38;5;241m.\u001b[39mIterable)\n\u001b[0;32m   3795\u001b[0m         \u001b[38;5;129;01mand\u001b[39;00m \u001b[38;5;28many\u001b[39m(\u001b[38;5;28misinstance\u001b[39m(x, \u001b[38;5;28mslice\u001b[39m) \u001b[38;5;28;01mfor\u001b[39;00m x \u001b[38;5;129;01min\u001b[39;00m casted_key)\n\u001b[0;32m   3796\u001b[0m     ):\n\u001b[0;32m   3797\u001b[0m         \u001b[38;5;28;01mraise\u001b[39;00m InvalidIndexError(key)\n\u001b[1;32m-> 3798\u001b[0m     \u001b[38;5;28;01mraise\u001b[39;00m \u001b[38;5;167;01mKeyError\u001b[39;00m(key) \u001b[38;5;28;01mfrom\u001b[39;00m \u001b[38;5;21;01merr\u001b[39;00m\n\u001b[0;32m   3799\u001b[0m \u001b[38;5;28;01mexcept\u001b[39;00m \u001b[38;5;167;01mTypeError\u001b[39;00m:\n\u001b[0;32m   3800\u001b[0m     \u001b[38;5;66;03m# If we have a listlike key, _check_indexing_error will raise\u001b[39;00m\n\u001b[0;32m   3801\u001b[0m     \u001b[38;5;66;03m#  InvalidIndexError. Otherwise we fall through and re-raise\u001b[39;00m\n\u001b[0;32m   3802\u001b[0m     \u001b[38;5;66;03m#  the TypeError.\u001b[39;00m\n\u001b[0;32m   3803\u001b[0m     \u001b[38;5;28mself\u001b[39m\u001b[38;5;241m.\u001b[39m_check_indexing_error(key)\n",
      "\u001b[1;31mKeyError\u001b[0m: 'Result'"
     ]
    }
   ],
   "source": [
    "# Assuming 'Result' is the correct column indicating game completion\n",
    "completed_games = schedule[schedule['Result'].notnull()]\n",
    "\n",
    "# Get the total number of games played so far\n",
    "total_games_played = len(completed_games)\n",
    "\n",
    "print(f\"Total games played so far in {year}: {total_games_played}\")"
   ]
  },
  {
   "cell_type": "code",
   "execution_count": 16,
   "metadata": {},
   "outputs": [
    {
     "name": "stdout",
     "output_type": "stream",
     "text": [
      "33.011422044545974\n"
     ]
    }
   ],
   "source": [
    "from mega import model_df\n",
    "avg_at_bats_pergame = (model_df[\"COL_at_bats\"].sum()) / (model_df[\"COL_at_bats\"].count())\n",
    "print(avg_at_bats_pergame)"
   ]
  },
  {
   "cell_type": "code",
   "execution_count": 19,
   "metadata": {},
   "outputs": [
    {
     "name": "stdout",
     "output_type": "stream",
     "text": [
      "9.374643061107939\n"
     ]
    },
    {
     "data": {
      "text/plain": [
       "dtype('float64')"
      ]
     },
     "execution_count": 19,
     "metadata": {},
     "output_type": "execute_result"
    }
   ],
   "source": [
    "avg_hits_per_game = (model_df[\"COL_hits\"].sum()) / (model_df[\"COL_hits\"].count())\n",
    "print(avg_hits_per_game)\n",
    "avg_hits_per_game.dtype"
   ]
  },
  {
   "cell_type": "code",
   "execution_count": 18,
   "metadata": {},
   "outputs": [
    {
     "name": "stdout",
     "output_type": "stream",
     "text": [
      "0.3444194359919977\n"
     ]
    }
   ],
   "source": [
    "avg_obp_pergame = (model_df[\"COL_obp\"].sum()) / (model_df[\"COL_obp\"].count())\n",
    "print(avg_obp_pergame)"
   ]
  },
  {
   "cell_type": "code",
   "execution_count": 6,
   "metadata": {},
   "outputs": [
    {
     "name": "stdout",
     "output_type": "stream",
     "text": [
      "Getting Batting Data: 2024 COL\n",
      "  Pos             Name    Year Age    G   PA   AB   R    H  2B  ...   OBP  \\\n",
      "1   C  Jacob Stallings  2024.0  34   73  250  215  25   55  12  ...  .353   \n",
      "2  1B   Michael Toglia  2024.0  25   98  384  335  55   74  11  ...  .311   \n",
      "3  2B  Brendan Rodgers  2024.0  27  123  494  463  60  127  25  ...  .316   \n",
      "4  SS   Ezequiel Tovar  2024.0  22  139  616  579  75  155  42  ...  .293   \n",
      "5  3B     Ryan McMahon  2024.0  29  136  577  504  61  124  25  ...  .334   \n",
      "\n",
      "    SLG   OPS OPS+   TB GDP HBP SH SF IBB  \n",
      "1  .433  .786  112   93  10   8  1  1   1  \n",
      "2  .478  .788  109  160   5   1  0  3   2  \n",
      "3  .417  .733   96  193  11   4  0  2   1  \n",
      "4  .465  .758  101  269  13   4  5  7   0  \n",
      "5  .403  .737   98  203   8   3  0  3   3  \n",
      "\n",
      "[5 rows x 28 columns]\n",
      "The current average batting average for the Colorado Rockies in 2024 is: .256\n"
     ]
    }
   ],
   "source": [
    "import pandas as pd\n",
    "from pybaseball import team_batting, team_batting_bref\n",
    "\n",
    "# Fetch team batting stats for the 2024 season\n",
    "team_stats = team_batting_bref('COL', 2024)  # Replace 'COL' with the desired team abbreviation\n",
    "\n",
    "# Display the DataFrame to inspect available columns\n",
    "print(team_stats.head())\n",
    "\n",
    "# Check for the correct column name for batting average\n",
    "# Assuming the column might be named 'AVG' or similar\n",
    "batting_avg_column = 'BA'  # Adjust based on actual column name\n",
    "\n",
    "# Get the batting average for the Colorado Rockies\n",
    "rockies_batting_avg = team_stats[batting_avg_column].values[0]\n",
    "\n",
    "print(f\"The current average batting average for the Colorado Rockies in 2024 is: {rockies_batting_avg}\")"
   ]
  },
  {
   "cell_type": "code",
   "execution_count": 8,
   "metadata": {},
   "outputs": [],
   "source": [
    "from pybaseball import schedule_and_record\n"
   ]
  },
  {
   "cell_type": "code",
   "execution_count": 11,
   "metadata": {},
   "outputs": [
    {
     "name": "stdout",
     "output_type": "stream",
     "text": [
      "Getting Batting Data: 2024 COL\n",
      "http://www.baseball-reference.com/teams/COL/2024-schedule-scores.shtml\n"
     ]
    }
   ],
   "source": [
    "team_stats = team_batting_bref(\"COL\", 2024)\n",
    "team_schedule = schedule_and_record(2024, 'COL')\n"
   ]
  },
  {
   "cell_type": "code",
   "execution_count": 12,
   "metadata": {},
   "outputs": [
    {
     "data": {
      "text/html": [
       "<div>\n",
       "<style scoped>\n",
       "    .dataframe tbody tr th:only-of-type {\n",
       "        vertical-align: middle;\n",
       "    }\n",
       "\n",
       "    .dataframe tbody tr th {\n",
       "        vertical-align: top;\n",
       "    }\n",
       "\n",
       "    .dataframe thead th {\n",
       "        text-align: right;\n",
       "    }\n",
       "</style>\n",
       "<table border=\"1\" class=\"dataframe\">\n",
       "  <thead>\n",
       "    <tr style=\"text-align: right;\">\n",
       "      <th></th>\n",
       "      <th>Date</th>\n",
       "      <th>Tm</th>\n",
       "      <th>Home_Away</th>\n",
       "      <th>Opp</th>\n",
       "      <th>W/L</th>\n",
       "      <th>R</th>\n",
       "      <th>RA</th>\n",
       "      <th>Inn</th>\n",
       "      <th>W-L</th>\n",
       "      <th>Rank</th>\n",
       "      <th>GB</th>\n",
       "      <th>Win</th>\n",
       "      <th>Loss</th>\n",
       "      <th>Save</th>\n",
       "      <th>Time</th>\n",
       "      <th>D/N</th>\n",
       "      <th>Attendance</th>\n",
       "      <th>cLI</th>\n",
       "      <th>Streak</th>\n",
       "      <th>Orig. Scheduled</th>\n",
       "    </tr>\n",
       "  </thead>\n",
       "  <tbody>\n",
       "    <tr>\n",
       "      <th>1</th>\n",
       "      <td>Thursday, Mar 28</td>\n",
       "      <td>COL</td>\n",
       "      <td>@</td>\n",
       "      <td>ARI</td>\n",
       "      <td>L</td>\n",
       "      <td>1.0</td>\n",
       "      <td>16.0</td>\n",
       "      <td>9.0</td>\n",
       "      <td>0-1</td>\n",
       "      <td>4.0</td>\n",
       "      <td>2.0</td>\n",
       "      <td>Gallen</td>\n",
       "      <td>Freeland</td>\n",
       "      <td>None</td>\n",
       "      <td>2:37</td>\n",
       "      <td>N</td>\n",
       "      <td>49011.0</td>\n",
       "      <td>1.00</td>\n",
       "      <td>-1.0</td>\n",
       "      <td>None</td>\n",
       "    </tr>\n",
       "    <tr>\n",
       "      <th>2</th>\n",
       "      <td>Friday, Mar 29</td>\n",
       "      <td>COL</td>\n",
       "      <td>@</td>\n",
       "      <td>ARI</td>\n",
       "      <td>L</td>\n",
       "      <td>3.0</td>\n",
       "      <td>7.0</td>\n",
       "      <td>9.0</td>\n",
       "      <td>0-2</td>\n",
       "      <td>4.0</td>\n",
       "      <td>3.0</td>\n",
       "      <td>Kelly</td>\n",
       "      <td>Quantrill</td>\n",
       "      <td>None</td>\n",
       "      <td>2:36</td>\n",
       "      <td>N</td>\n",
       "      <td>29480.0</td>\n",
       "      <td>.96</td>\n",
       "      <td>-2.0</td>\n",
       "      <td>None</td>\n",
       "    </tr>\n",
       "    <tr>\n",
       "      <th>3</th>\n",
       "      <td>Saturday, Mar 30</td>\n",
       "      <td>COL</td>\n",
       "      <td>@</td>\n",
       "      <td>ARI</td>\n",
       "      <td>W</td>\n",
       "      <td>9.0</td>\n",
       "      <td>4.0</td>\n",
       "      <td>9.0</td>\n",
       "      <td>1-2</td>\n",
       "      <td>4.0</td>\n",
       "      <td>2.0</td>\n",
       "      <td>Lambert</td>\n",
       "      <td>Henry</td>\n",
       "      <td>None</td>\n",
       "      <td>3:17</td>\n",
       "      <td>N</td>\n",
       "      <td>32133.0</td>\n",
       "      <td>.92</td>\n",
       "      <td>1.0</td>\n",
       "      <td>None</td>\n",
       "    </tr>\n",
       "    <tr>\n",
       "      <th>4</th>\n",
       "      <td>Sunday, Mar 31</td>\n",
       "      <td>COL</td>\n",
       "      <td>@</td>\n",
       "      <td>ARI</td>\n",
       "      <td>L</td>\n",
       "      <td>1.0</td>\n",
       "      <td>5.0</td>\n",
       "      <td>9.0</td>\n",
       "      <td>1-3</td>\n",
       "      <td>4.0</td>\n",
       "      <td>4.0</td>\n",
       "      <td>Pfaadt</td>\n",
       "      <td>Feltner</td>\n",
       "      <td>None</td>\n",
       "      <td>2:22</td>\n",
       "      <td>D</td>\n",
       "      <td>21824.0</td>\n",
       "      <td>.97</td>\n",
       "      <td>-1.0</td>\n",
       "      <td>None</td>\n",
       "    </tr>\n",
       "    <tr>\n",
       "      <th>5</th>\n",
       "      <td>Monday, Apr 1</td>\n",
       "      <td>COL</td>\n",
       "      <td>@</td>\n",
       "      <td>CHC</td>\n",
       "      <td>L</td>\n",
       "      <td>0.0</td>\n",
       "      <td>5.0</td>\n",
       "      <td>9.0</td>\n",
       "      <td>1-4</td>\n",
       "      <td>4.0</td>\n",
       "      <td>5.0</td>\n",
       "      <td>Imanaga</td>\n",
       "      <td>Hudson</td>\n",
       "      <td>None</td>\n",
       "      <td>2:26</td>\n",
       "      <td>D</td>\n",
       "      <td>40072.0</td>\n",
       "      <td>.85</td>\n",
       "      <td>-2.0</td>\n",
       "      <td>None</td>\n",
       "    </tr>\n",
       "  </tbody>\n",
       "</table>\n",
       "</div>"
      ],
      "text/plain": [
       "               Date   Tm Home_Away  Opp W/L    R    RA  Inn  W-L  Rank   GB  \\\n",
       "1  Thursday, Mar 28  COL         @  ARI   L  1.0  16.0  9.0  0-1   4.0  2.0   \n",
       "2    Friday, Mar 29  COL         @  ARI   L  3.0   7.0  9.0  0-2   4.0  3.0   \n",
       "3  Saturday, Mar 30  COL         @  ARI   W  9.0   4.0  9.0  1-2   4.0  2.0   \n",
       "4    Sunday, Mar 31  COL         @  ARI   L  1.0   5.0  9.0  1-3   4.0  4.0   \n",
       "5     Monday, Apr 1  COL         @  CHC   L  0.0   5.0  9.0  1-4   4.0  5.0   \n",
       "\n",
       "       Win       Loss  Save  Time D/N  Attendance   cLI  Streak  \\\n",
       "1   Gallen   Freeland  None  2:37   N     49011.0  1.00    -1.0   \n",
       "2    Kelly  Quantrill  None  2:36   N     29480.0   .96    -2.0   \n",
       "3  Lambert      Henry  None  3:17   N     32133.0   .92     1.0   \n",
       "4   Pfaadt    Feltner  None  2:22   D     21824.0   .97    -1.0   \n",
       "5  Imanaga     Hudson  None  2:26   D     40072.0   .85    -2.0   \n",
       "\n",
       "  Orig. Scheduled  \n",
       "1            None  \n",
       "2            None  \n",
       "3            None  \n",
       "4            None  \n",
       "5            None  "
      ]
     },
     "execution_count": 12,
     "metadata": {},
     "output_type": "execute_result"
    }
   ],
   "source": [
    "team_schedule.head()"
   ]
  },
  {
   "cell_type": "code",
   "execution_count": 14,
   "metadata": {},
   "outputs": [
    {
     "data": {
      "text/plain": [
       "Index(['AB'], dtype='object')"
      ]
     },
     "execution_count": 14,
     "metadata": {},
     "output_type": "execute_result"
    }
   ],
   "source": [
    "\n",
    "games_played = len(team_schedule[team_schedule['Streak'].notnull()])\n",
    "avg_hits_per_game_opp = pd.Series(team_stats[\"AB\"])\n",
    "avg_hits_df = pd.DataFrame(avg_hits_per_game_opp.head(21))\n",
    "avg_hits_df = avg_hits_df.reset_index(drop=True)\n",
    "avg_hits_df.columns\n"
   ]
  },
  {
   "cell_type": "code",
   "execution_count": 28,
   "metadata": {},
   "outputs": [
    {
     "name": "stdout",
     "output_type": "stream",
     "text": [
      "33.770833333333336\n"
     ]
    }
   ],
   "source": [
    "values = pd.to_numeric(avg_hits_df['AB'], errors = 'coerce')\n",
    "totalhits = values.sum()\n",
    "avghitspergame = totalhits/games_played\n",
    "print(avghitspergame)\n",
    "\n",
    "# print(games_played)\n",
    "# print(avg_hits_df)\n",
    "# print(avg_hits_per_game_total)"
   ]
  },
  {
   "cell_type": "code",
   "execution_count": 35,
   "metadata": {},
   "outputs": [
    {
     "name": "stdout",
     "output_type": "stream",
     "text": [
      "Getting Batting Data: 2024 ATL\n",
      "http://www.baseball-reference.com/teams/ATL/2024-schedule-scores.shtml\n"
     ]
    },
    {
     "data": {
      "text/plain": [
       "8.020979020979022"
      ]
     },
     "execution_count": 35,
     "metadata": {},
     "output_type": "execute_result"
    }
   ],
   "source": [
    "from functions import team_avg_stats_pergame\n",
    "from mega import mega_df\n",
    "\n",
    "test_ab = team_avg_stats_pergame(\"ATL\", \"hits\", mega_df)\n",
    "test_ab"
   ]
  }
 ],
 "metadata": {
  "kernelspec": {
   "display_name": "base",
   "language": "python",
   "name": "python3"
  },
  "language_info": {
   "codemirror_mode": {
    "name": "ipython",
    "version": 3
   },
   "file_extension": ".py",
   "mimetype": "text/x-python",
   "name": "python",
   "nbconvert_exporter": "python",
   "pygments_lexer": "ipython3",
   "version": "3.11.7"
  }
 },
 "nbformat": 4,
 "nbformat_minor": 2
}

{
 "cells": [
  {
   "cell_type": "code",
   "execution_count": 2,
   "metadata": {},
   "outputs": [],
   "source": [
    "import pandas as pd\n",
    "from pybaseball import statcast\n",
    "from datetime import datetime"
   ]
  },
  {
   "cell_type": "code",
   "execution_count": 2,
   "metadata": {},
   "outputs": [
    {
     "name": "stdout",
     "output_type": "stream",
     "text": [
      "This is a large query, it may take a moment to complete\n"
     ]
    },
    {
     "name": "stderr",
     "output_type": "stream",
     "text": [
      "100%|██████████| 1/1 [00:12<00:00, 12.09s/it]\n"
     ]
    }
   ],
   "source": [
    "# Define the date of the game\n",
    "game_date = \"2023-08-01\"\n",
    "\n",
    "# Pull all Statcast data for that date\n",
    "data = statcast(start_dt=game_date, end_dt=game_date)\n",
    "\n",
    "# Filter data for the specific team (e.g., New York Yankees)\n",
    "team_data = data[data['home_team'] == 'NYY']"
   ]
  },
  {
   "cell_type": "code",
   "execution_count": 4,
   "metadata": {},
   "outputs": [
    {
     "name": "stdout",
     "output_type": "stream",
     "text": [
      "13\n",
      "64\n"
     ]
    }
   ],
   "source": [
    "# Calculate hits and at-bats\n",
    "# 'events' column can be used to determine hits ('single', 'double', 'triple', 'home_run')\n",
    "hits = team_data['events'].isin(['single', 'double', 'triple', 'home_run']).sum()\n",
    "at_bats = team_data['events'].isin(['single', 'double', 'triple', 'home_run', 'strikeout', 'field_out', 'grounded_into_double_play']).sum()\n",
    "\n",
    "print(hits)\n",
    "print(at_bats)"
   ]
  },
  {
   "cell_type": "code",
   "execution_count": 5,
   "metadata": {},
   "outputs": [],
   "source": [
    "# Calculate batting average\n",
    "batting_average = hits / at_bats if at_bats > 0 else 0"
   ]
  },
  {
   "cell_type": "code",
   "execution_count": 6,
   "metadata": {},
   "outputs": [
    {
     "name": "stdout",
     "output_type": "stream",
     "text": [
      "Team Batting Average for 2023-08-01: 0.203\n"
     ]
    }
   ],
   "source": [
    "print(f\"Team Batting Average for {game_date}: {batting_average:.3f}\")"
   ]
  },
  {
   "cell_type": "code",
   "execution_count": 31,
   "metadata": {},
   "outputs": [],
   "source": [
    "def team_batting_avg(team, date):\n",
    "    # Define the date of the game\n",
    "    game_date = str(date)\n",
    "\n",
    "    # Pull all Statcast data for that date\n",
    "    data = statcast(start_dt=game_date, end_dt=game_date, team=team)\n",
    "\n",
    "    # Filter data for the specific team (e.g., New York Yankees)\n",
    "    team_data = data\n",
    "\n",
    "    # Calculate hits and at-bats\n",
    "    # 'events' column can be used to determine hits ('single', 'double', 'triple', 'home_run')\n",
    "    hits = team_data['events'].isin(['single', 'double', 'triple', 'home_run']).sum()\n",
    "    at_bats = team_data['events'].isin(['single', 'double', 'triple', 'home_run', 'strikeout', 'field_out', 'grounded_into_double_play']).sum()\n",
    "\n",
    "    # Calculate batting average\n",
    "    batting_average = hits / at_bats if at_bats > 0 else 0\n",
    "    print(f\"Team Batting Average for {game_date}: {batting_average:.3f}\")"
   ]
  },
  {
   "cell_type": "code",
   "execution_count": 33,
   "metadata": {},
   "outputs": [
    {
     "name": "stdout",
     "output_type": "stream",
     "text": [
      "This is a large query, it may take a moment to complete\n"
     ]
    },
    {
     "name": "stderr",
     "output_type": "stream",
     "text": [
      "100%|██████████| 1/1 [00:00<00:00,  8.11it/s]\n"
     ]
    },
    {
     "name": "stdout",
     "output_type": "stream",
     "text": [
      "Team Batting Average for 2024-08-28: 0.300\n"
     ]
    }
   ],
   "source": [
    "team_batting_avg(\"MIA\", \"2024-08-28\")"
   ]
  },
  {
   "cell_type": "code",
   "execution_count": 28,
   "metadata": {},
   "outputs": [],
   "source": [
    "def team_obp(team, date):\n",
    "    # Define the date of the game\n",
    "    game_date = str(date)\n",
    "\n",
    "    # Pull all Statcast data for that date\n",
    "    data = statcast(start_dt=game_date, end_dt=game_date, team=team)\n",
    "\n",
    "    # Filter data for the specific team (e.g., Miami Marlins)\n",
    "    team_data = data\n",
    "\n",
    "    # Calculate components for OBP\n",
    "    hits = team_data['events'].isin(['single', 'double', 'triple', 'home_run']).sum()\n",
    "    walks = team_data['events'].isin(['walk']).sum()\n",
    "    hit_by_pitch = team_data['events'].isin(['hit_by_pitch']).sum()\n",
    "    at_bats = team_data['events'].isin(['single', 'double', 'triple', 'home_run', 'strikeout', 'field_out', 'grounded_into_double_play']).sum()\n",
    "    sacrifice_flies = team_data['events'].isin(['sac_fly']).sum()\n",
    "\n",
    "    # Calculate OBP\n",
    "    obp = (hits + walks + hit_by_pitch) / (at_bats + walks + hit_by_pitch + sacrifice_flies) if (at_bats + walks + hit_by_pitch + sacrifice_flies) > 0 else 0\n",
    "\n",
    "    print(f\"Team OBP for {game_date}: {obp:.3f}\")"
   ]
  },
  {
   "cell_type": "code",
   "execution_count": 30,
   "metadata": {},
   "outputs": [
    {
     "name": "stdout",
     "output_type": "stream",
     "text": [
      "This is a large query, it may take a moment to complete\n"
     ]
    },
    {
     "name": "stderr",
     "output_type": "stream",
     "text": [
      "100%|██████████| 1/1 [00:02<00:00,  2.08s/it]"
     ]
    },
    {
     "name": "stdout",
     "output_type": "stream",
     "text": [
      "Team OBP for 2024-08-28: 0.417\n"
     ]
    },
    {
     "name": "stderr",
     "output_type": "stream",
     "text": [
      "\n"
     ]
    }
   ],
   "source": [
    "team_obp(\"MIA\", \"2024-08-28\")"
   ]
  },
  {
   "cell_type": "code",
   "execution_count": 34,
   "metadata": {},
   "outputs": [],
   "source": [
    "def team_stats(team, date):\n",
    "    # Define the date of the game\n",
    "    game_date = str(date)\n",
    "\n",
    "    # Pull all Statcast data for that date\n",
    "    data = statcast(start_dt=game_date, end_dt=game_date, team=team)\n",
    "\n",
    "    # Filter data for the specific team (e.g., Miami Marlins)\n",
    "    team_data = data\n",
    "\n",
    "    # Calculate components for OBP\n",
    "    hits = team_data['events'].isin(['single', 'double', 'triple', 'home_run']).sum()\n",
    "    walks = team_data['events'].isin(['walk']).sum()\n",
    "    at_bats = team_data['events'].isin(['single', 'double', 'triple', 'home_run', 'strikeout', 'field_out', 'grounded_into_double_play']).sum()\n",
    "\n",
    "    #print\n",
    "    print(f\"hits: {hits}\")\n",
    "    print(f\"walks: {walks}\")\n",
    "    print(f\"at bats: {at_bats}\")\n",
    "\n"
   ]
  },
  {
   "cell_type": "code",
   "execution_count": 36,
   "metadata": {},
   "outputs": [
    {
     "name": "stdout",
     "output_type": "stream",
     "text": [
      "This is a large query, it may take a moment to complete\n"
     ]
    },
    {
     "name": "stderr",
     "output_type": "stream",
     "text": [
      "100%|██████████| 1/1 [00:00<00:00,  5.93it/s]\n"
     ]
    },
    {
     "name": "stdout",
     "output_type": "stream",
     "text": [
      "hits: 8\n",
      "walks: 2\n",
      "at bats: 33\n"
     ]
    }
   ],
   "source": [
    "team_stats(\"COL\", \"2024-08-28\")"
   ]
  },
  {
   "cell_type": "code",
   "execution_count": 3,
   "metadata": {},
   "outputs": [],
   "source": [
    "def team_obp(team, date):\n",
    "    # Define the date of the game\n",
    "    game_date = str(date)\n",
    "    if pd.to_datetime(game_date) >= pd.to_datetime(datetime.today().strftime('%Y-%m-%d')):\n",
    "        return -1\n",
    "    else:\n",
    "        # Pull all Statcast data for that date\n",
    "        data = statcast(start_dt=game_date, end_dt=game_date, team=team)\n",
    "\n",
    "        # Filter data for the specific team (e.g., Miami Marlins)\n",
    "        team_data = data\n",
    "\n",
    "        # Calculate components for OBP\n",
    "        hits = team_data['events'].isin(['single', 'double', 'triple', 'home_run']).sum()\n",
    "        walks = team_data['events'].isin(['walk']).sum()\n",
    "        hit_by_pitch = team_data['events'].isin(['hit_by_pitch']).sum()\n",
    "        at_bats = team_data['events'].isin(['single', 'double', 'triple', 'home_run', 'strikeout', 'field_out', 'grounded_into_double_play']).sum()\n",
    "        sacrifice_flies = team_data['events'].isin(['sac_fly']).sum()\n",
    "\n",
    "        # Calculate OBP\n",
    "        obp = (hits + walks + hit_by_pitch) / (at_bats + walks + hit_by_pitch + sacrifice_flies) if (at_bats + walks + hit_by_pitch + sacrifice_flies) > 0 else 0\n",
    "        return obp\n",
    "        # print(f\"Team OBP for {game_date}: {obp:.3f}\")"
   ]
  },
  {
   "cell_type": "code",
   "execution_count": 12,
   "metadata": {},
   "outputs": [
    {
     "name": "stdout",
     "output_type": "stream",
     "text": [
      "This is a large query, it may take a moment to complete\n"
     ]
    },
    {
     "name": "stderr",
     "output_type": "stream",
     "text": [
      "100%|██████████| 1/1 [00:00<00:00,  8.55it/s]\n"
     ]
    },
    {
     "data": {
      "text/plain": [
       "0.2857142857142857"
      ]
     },
     "execution_count": 12,
     "metadata": {},
     "output_type": "execute_result"
    }
   ],
   "source": [
    "team_obp(\"COL\", \"2024-08-28\")"
   ]
  },
  {
   "cell_type": "code",
   "execution_count": 5,
   "metadata": {},
   "outputs": [],
   "source": [
    "def team_batting_avg(team, date):\n",
    "    # Define the date of the game\n",
    "    game_date = str(date)\n",
    "    if pd.to_datetime(game_date) >= pd.to_datetime(datetime.today().strftime('%Y-%m-%d')):\n",
    "        return -1\n",
    "    else:\n",
    "        # Pull all Statcast data for that date\n",
    "        data = statcast(start_dt=game_date, end_dt=game_date, team=team)\n",
    "\n",
    "        # Filter data for the specific team (e.g., New York Yankees)\n",
    "        team_data = data\n",
    "\n",
    "        # Calculate hits and at-bats\n",
    "        # 'events' column can be used to determine hits ('single', 'double', 'triple', 'home_run')\n",
    "        hits = team_data['events'].isin(['single', 'double', 'triple', 'home_run']).sum()\n",
    "        at_bats = team_data['events'].isin(['single', 'double', 'triple', 'home_run', 'strikeout', 'field_out', 'grounded_into_double_play']).sum()\n",
    "\n",
    "        # Calculate batting average\n",
    "        batting_average = hits / at_bats if at_bats > 0 else 0\n",
    "        return batting_average\n",
    "        #print(f\"Team Batting Average for {game_date}: {batting_average:.3f}\")"
   ]
  },
  {
   "cell_type": "code",
   "execution_count": 11,
   "metadata": {},
   "outputs": [
    {
     "name": "stdout",
     "output_type": "stream",
     "text": [
      "This is a large query, it may take a moment to complete\n"
     ]
    },
    {
     "name": "stderr",
     "output_type": "stream",
     "text": [
      "100%|██████████| 1/1 [00:00<00:00, 14.13it/s]\n"
     ]
    },
    {
     "data": {
      "text/plain": [
       "0.24242424242424243"
      ]
     },
     "execution_count": 11,
     "metadata": {},
     "output_type": "execute_result"
    }
   ],
   "source": [
    "team_batting_avg(\"COL\", \"2024-08-28\")"
   ]
  },
  {
   "cell_type": "code",
   "execution_count": 8,
   "metadata": {},
   "outputs": [],
   "source": [
    "def team_stats(team, date, stat_name):\n",
    "    # Define the date of the game\n",
    "    game_date = str(date)\n",
    "    if pd.to_datetime(game_date) >= pd.to_datetime(datetime.today().strftime('%Y-%m-%d')):\n",
    "        return -1\n",
    "    else:\n",
    "        # Pull all Statcast data for that date\n",
    "        data = statcast(start_dt=game_date, end_dt=game_date, team=team)\n",
    "\n",
    "        # Filter data for the specific team (e.g., Miami Marlins)\n",
    "        team_data = data\n",
    "\n",
    "        # Calculate components for OBP\n",
    "        hits = team_data['events'].isin(['single', 'double', 'triple', 'home_run']).sum()\n",
    "        walks = team_data['events'].isin(['walk']).sum()\n",
    "        at_bats = team_data['events'].isin(['single', 'double', 'triple', 'home_run', 'strikeout', 'field_out', 'grounded_into_double_play']).sum()\n",
    "        home_runs = team_data['events'].isin(['home_run']).sum()\n",
    "        strikeouts = team_data['events'].isin(['strikeout', 'strikeout_double_play']).sum()\n",
    "\n",
    "        # return stat\n",
    "        if stat_name == \"hits\":\n",
    "            return hits\n",
    "        elif stat_name == \"walks\":\n",
    "            return walks\n",
    "        elif stat_name == \"at bats\":\n",
    "            return at_bats\n",
    "        elif stat_name == \"home runs\":\n",
    "            return home_runs\n",
    "        elif stat_name == \"strikeouts\":\n",
    "            return strikeouts\n",
    "        else:\n",
    "            return \"UNKNOWN\""
   ]
  },
  {
   "cell_type": "code",
   "execution_count": 10,
   "metadata": {},
   "outputs": [
    {
     "name": "stdout",
     "output_type": "stream",
     "text": [
      "This is a large query, it may take a moment to complete\n"
     ]
    },
    {
     "name": "stderr",
     "output_type": "stream",
     "text": [
      "100%|██████████| 1/1 [00:03<00:00,  3.17s/it]\n"
     ]
    },
    {
     "data": {
      "text/plain": [
       "8"
      ]
     },
     "execution_count": 10,
     "metadata": {},
     "output_type": "execute_result"
    }
   ],
   "source": [
    "team_stats(\"COL\", \"2024-08-28\", \"hits\")"
   ]
  }
 ],
 "metadata": {
  "kernelspec": {
   "display_name": "base",
   "language": "python",
   "name": "python3"
  },
  "language_info": {
   "codemirror_mode": {
    "name": "ipython",
    "version": 3
   },
   "file_extension": ".py",
   "mimetype": "text/x-python",
   "name": "python",
   "nbconvert_exporter": "python",
   "pygments_lexer": "ipython3",
   "version": "3.11.7"
  }
 },
 "nbformat": 4,
 "nbformat_minor": 2
}

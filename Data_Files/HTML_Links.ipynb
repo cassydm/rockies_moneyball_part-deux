{
 "cells": [
  {
   "cell_type": "markdown",
   "metadata": {},
   "source": [
    "# 2024 Data links"
   ]
  },
  {
   "cell_type": "code",
   "execution_count": 18,
   "metadata": {},
   "outputs": [],
   "source": [
    "# 2024 Batting link\n",
    "Team_Batting_2024_url=\"https://www.baseball-reference.com/teams/COL/2024.shtml#team_batting\"\n"
   ]
  },
  {
   "cell_type": "code",
   "execution_count": 2,
   "metadata": {},
   "outputs": [],
   "source": [
    "# 2024 Team Pitching link\n",
    "Team_Pitching_2024_url=\"https://www.baseball-reference.com/teams/COL/2024.shtml#team_pitching\""
   ]
  },
  {
   "cell_type": "code",
   "execution_count": 5,
   "metadata": {},
   "outputs": [],
   "source": [
    "# 2024 Team Fielding link\n",
    "Team_Fielding_2024_url=\"https://www.baseball-reference.com/teams/COL/2024-fielding.shtml#standard_fielding\""
   ]
  },
  {
   "cell_type": "code",
   "execution_count": 6,
   "metadata": {},
   "outputs": [],
   "source": [
    "# 2024 Team Payroll link\n",
    "Team_Payroll_2024_url=\"https://www.baseball-reference.com/teams/COL/colorado-rockies-salaries-and-contracts.shtml#payroll\""
   ]
  },
  {
   "cell_type": "code",
   "execution_count": 7,
   "metadata": {},
   "outputs": [],
   "source": [
    "# 2024 Players Value Batting link\n",
    "Players_Value_2024_url=\"https://www.baseball-reference.com/teams/COL/2024-batting.shtml#players_value_batting\""
   ]
  },
  {
   "cell_type": "code",
   "execution_count": 16,
   "metadata": {},
   "outputs": [],
   "source": [
    "# 2024 Cumulative Batting link\n",
    "Cumulative_Batting_2024_url=\"https://www.baseball-reference.com/teams/COL/2024-batting.shtml#players_cumulative_batting\""
   ]
  },
  {
   "cell_type": "code",
   "execution_count": 15,
   "metadata": {},
   "outputs": [],
   "source": [
    "# 2024 Full Season Roster link\n",
    "Team_Roster_2024_url=\"https://www.baseball-reference.com/teams/COL/2024.shtml#appearances\""
   ]
  },
  {
   "cell_type": "code",
   "execution_count": 17,
   "metadata": {},
   "outputs": [],
   "source": [
    "# 2024 Players Value Pitching link\n",
    "Players_Value_Pitching_2024_url=\"https://www.baseball-reference.com/teams/COL/2024.shtml#players_value_pitching\""
   ]
  },
  {
   "cell_type": "markdown",
   "metadata": {},
   "source": [
    "# 2007 Data links"
   ]
  },
  {
   "cell_type": "code",
   "execution_count": 3,
   "metadata": {},
   "outputs": [],
   "source": [
    "# 2007 Batting Link\n",
    "Team_Batting_2007_url=\"https://www.baseball-reference.com/teams/COL/2007.shtml#team_batting\""
   ]
  },
  {
   "cell_type": "code",
   "execution_count": 4,
   "metadata": {},
   "outputs": [],
   "source": [
    "# 2007 Team Pitching link\n",
    "Team_Pitching_2007_url=\"https://www.baseball-reference.com/teams/COL/2007.shtml#team_pitching\""
   ]
  },
  {
   "cell_type": "code",
   "execution_count": 11,
   "metadata": {},
   "outputs": [],
   "source": [
    "# 2007 Team Fielding link\n",
    "Team_Fielding_2007_url=\"https://www.baseball-reference.com/teams/COL/2007.shtml#standard_fielding\""
   ]
  },
  {
   "cell_type": "code",
   "execution_count": 10,
   "metadata": {},
   "outputs": [],
   "source": [
    "# 2007 Full Season Roster link\n",
    "Team_Roster_2007_url=\"https://www.baseball-reference.com/teams/COL/2007.shtml#appearances\""
   ]
  },
  {
   "cell_type": "code",
   "execution_count": 9,
   "metadata": {},
   "outputs": [],
   "source": [
    "# 2007 Coaching Staff link\n",
    "Coaching_2007_url=\"https://www.baseball-reference.com/teams/COL/2007.shtml#coaches\""
   ]
  },
  {
   "cell_type": "code",
   "execution_count": 12,
   "metadata": {},
   "outputs": [],
   "source": [
    "# 2007 Players Value Batting link\n",
    "Players_Value_2007_url=\"https://www.baseball-reference.com/teams/COL/2007.shtml#players_value_batting\""
   ]
  },
  {
   "cell_type": "code",
   "execution_count": 13,
   "metadata": {},
   "outputs": [],
   "source": [
    "# 2007 Players Value Pitching link\n",
    "Players_Value_Pitching_2007_url=\"https://www.baseball-reference.com/teams/COL/2007.shtml#players_value_pitching\""
   ]
  }
 ],
 "metadata": {
  "kernelspec": {
   "display_name": "base",
   "language": "python",
   "name": "python3"
  },
  "language_info": {
   "codemirror_mode": {
    "name": "ipython",
    "version": 3
   },
   "file_extension": ".py",
   "mimetype": "text/x-python",
   "name": "python",
   "nbconvert_exporter": "python",
   "pygments_lexer": "ipython3",
   "version": "3.11.7"
  }
 },
 "nbformat": 4,
 "nbformat_minor": 2
}
